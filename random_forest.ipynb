{
 "cells": [
  {
   "cell_type": "code",
   "execution_count": 3,
   "metadata": {},
   "outputs": [
    {
     "name": "stderr",
     "output_type": "stream",
     "text": [
      "/home/hamoor/.local/share/virtualenvs/PennApps2018-017zYobi/lib/python3.6/site-packages/sklearn/ensemble/weight_boosting.py:29: DeprecationWarning: numpy.core.umath_tests is an internal NumPy module and should not be imported. It will be removed in a future NumPy release.\n",
      "  from numpy.core.umath_tests import inner1d\n"
     ]
    }
   ],
   "source": [
    "from sklearn.feature_extraction.text import CountVectorizer, TfidfTransformer\n",
    "from sklearn.ensemble import RandomForestClassifier, ExtraTreesClassifier\n",
    "from sklearn.pipeline import Pipeline\n",
    "from sklearn.model_selection import train_test_split\n",
    "import pymongo\n",
    "import config"
   ]
  },
  {
   "cell_type": "code",
   "execution_count": 4,
   "metadata": {},
   "outputs": [],
   "source": [
    "# get data\n",
    "conn = pymongo.MongoClient(config.DB_HOST, config.DB_PORT)\n",
    "db = conn[config.DB_NAME]\n",
    "db.authenticate(config.DB_USER, config.DB_PASS)\n",
    "\n",
    "fake_news = db.docs.aggregate([{\"$limit\": db.docs.count_documents({\"truth\": True})}, {\"$match\": {\"truth\": False}}])\n",
    "real_news = db.docs.find({\"truth\": True})"
   ]
  },
  {
   "cell_type": "code",
   "execution_count": 5,
   "metadata": {},
   "outputs": [],
   "source": [
    "real_news = list(real_news)\n",
    "fake_news = list(fake_news)"
   ]
  },
  {
   "cell_type": "code",
   "execution_count": 6,
   "metadata": {},
   "outputs": [
    {
     "ename": "SyntaxError",
     "evalue": "invalid syntax (<ipython-input-6-6d8d3c231bdd>, line 1)",
     "output_type": "error",
     "traceback": [
      "\u001b[0;36m  File \u001b[0;32m\"<ipython-input-6-6d8d3c231bdd>\"\u001b[0;36m, line \u001b[0;32m1\u001b[0m\n\u001b[0;31m    real_news.append(fake_news)gg\u001b[0m\n\u001b[0m                                ^\u001b[0m\n\u001b[0;31mSyntaxError\u001b[0m\u001b[0;31m:\u001b[0m invalid syntax\n"
     ]
    }
   ],
   "source": [
    "real_news.append(fake_news)"
   ]
  },
  {
   "cell_type": "code",
   "execution_count": null,
   "metadata": {},
   "outputs": [],
   "source": [
    "news = real_news"
   ]
  },
  {
   "cell_type": "code",
   "execution_count": null,
   "metadata": {},
   "outputs": [],
   "source": [
    "X, y = [], []\n",
    "for x in news:\n",
    "    if isinstance(x, dict):\n",
    "        X.append((x['title'], x['text']))\n",
    "        y.append(x['truth'])    \n",
    "    else:\n",
    "        for x2 in x:\n",
    "            X.append((x2['title'], x2['text']))\n",
    "            y.append(x2['truth'])"
   ]
  },
  {
   "cell_type": "code",
   "execution_count": null,
   "metadata": {},
   "outputs": [],
   "source": [
    "for x in X:\n",
    "    if not x[0]:\n",
    "        del y[X.index(x)]\n",
    "        X.remove(x)"
   ]
  },
  {
   "cell_type": "code",
   "execution_count": null,
   "metadata": {},
   "outputs": [],
   "source": [
    "X_train, X_test, y_train, y_test = train_test_split(X, y, test_size=0.2, random_state=0)"
   ]
  },
  {
   "cell_type": "code",
   "execution_count": null,
   "metadata": {},
   "outputs": [],
   "source": [
    "import preprocess as pre\n",
    "\n",
    "c = []\n",
    "for x in X_train:\n",
    "    c.append((pre.tfidf_preprocess(x[0]), pre.tfidf_preprocess(x[1])))\n",
    "X_train = c\n",
    "\n",
    "c = []\n",
    "for x in X_test:\n",
    "    c.append((pre.tfidf_preprocess(x[0]), pre.tfidf_preprocess(x[1])))\n",
    "X_test = c"
   ]
  },
  {
   "cell_type": "code",
   "execution_count": null,
   "metadata": {},
   "outputs": [],
   "source": [
    "pipe = Pipeline([('vect', CountVectorizer()), ('tfidf', TfidfTransformer()), ('clf', RandomForestClassifier(random_state=0))])\n",
    "pipe.fit(list(x[1] for x in X_train), y_train)\n",
    "predicted = pipe.predict(list(x[1] for x in X_test))\n",
    "\n",
    "import numpy as np\n",
    "np.mean(predicted == y_test)"
   ]
  },
  {
   "cell_type": "code",
   "execution_count": null,
   "metadata": {},
   "outputs": [],
   "source": [
    "# cross validate\n",
    "c = []\n",
    "for x in X:\n",
    "    import preprocess\n",
    "    c.append(preprocess.tfidf_preprocess(x[1]))\n",
    "X = c\n",
    "\n",
    "import numpy as np\n",
    "\n",
    "from sklearn.model_selection import StratifiedKFold\n",
    "# from sklearn.linear_model import SGDClassifier\n",
    "from sklearn.neighbors import KNeighborsClassifier\n",
    "\n",
    "skf = StratifiedKFold(n_splits=40)\n",
    "\n",
    "skf.get_n_splits(X, y)\n",
    "\n",
    "vals = []\n",
    "for train_index, test_index in skf.split(X, y):\n",
    "#     print('{} {}'.format(train_index, test_index))\n",
    "    X_train = []\n",
    "    y_train = []\n",
    "    \n",
    "    X_test = []\n",
    "    y_test = []\n",
    "    \n",
    "    for ind in train_index:\n",
    "        X_train.append(X[ind])\n",
    "        y_train.append(y[ind])\n",
    "    \n",
    "    for ind in test_index:\n",
    "        X_test.append(X[ind])\n",
    "        y_test.append(y[ind])\n",
    "\n",
    "    \n",
    "    pipe = Pipeline([\n",
    "        ('vect', CountVectorizer()), \n",
    "        ('tfidf', TfidfTransformer()), \n",
    "        ('sgd', ExtraTreesClassifier(n_estimators=100))\n",
    "    ])\n",
    "    pipe.fit(X_train, y_train)\n",
    "    predicted = pipe.predict(X_test)\n",
    "    \n",
    "    print('Score: {}'.format(np.mean(predicted == y_test)))\n",
    "    vals.append(np.mean(predicted == y_test))\n",
    "    \n",
    "print(np.mean(vals))"
   ]
  },
  {
   "cell_type": "code",
   "execution_count": null,
   "metadata": {},
   "outputs": [],
   "source": [
    "# xgboost test\n",
    "import numpy as np\n",
    "from sklearn.model_selection import StratifiedKFold\n",
    "from xgboost import XGBClassifier\n",
    "\n",
    "skf = StratifiedKFold(n_splits=10)\n",
    "skf.get_n_splits(X, y)\n",
    "\n",
    "vals = []\n",
    "for train_index, test_index in skf.split(X, y):\n",
    "#     print('{} {}'.format(train_index, test_index))\n",
    "    X_train = []\n",
    "    y_train = []\n",
    "    \n",
    "    X_test = []\n",
    "    y_test = []\n",
    "    \n",
    "    for ind in train_index:\n",
    "        X_train.append(X[ind])\n",
    "        y_train.append(y[ind])\n",
    "    \n",
    "    for ind in test_index:\n",
    "        X_test.append(X[ind])\n",
    "        y_test.append(y[ind])\n",
    "\n",
    "    \n",
    "    pipe = Pipeline([\n",
    "        ('vect', CountVectorizer()), \n",
    "        ('tfidf', TfidfTransformer()), \n",
    "        ('sgd', XGBClassifier(n_estimators=100))\n",
    "    ])\n",
    "    pipe.fit(X_train, y_train)\n",
    "    predicted = pipe.predict(X_test)\n",
    "    \n",
    "    print('Score: {}'.format(np.mean(predicted == y_test)))\n",
    "    vals.append(np.mean(predicted == y_test))\n",
    "    \n",
    "print(np.mean(vals))"
   ]
  }
 ],
 "metadata": {
  "kernelspec": {
   "display_name": "Python 3",
   "language": "python",
   "name": "python3"
  },
  "language_info": {
   "codemirror_mode": {
    "name": "ipython",
    "version": 3
   },
   "file_extension": ".py",
   "mimetype": "text/x-python",
   "name": "python",
   "nbconvert_exporter": "python",
   "pygments_lexer": "ipython3",
   "version": "3.6.5"
  }
 },
 "nbformat": 4,
 "nbformat_minor": 2
}
