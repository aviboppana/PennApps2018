{
 "cells": [
  {
   "cell_type": "code",
   "execution_count": 4,
   "metadata": {},
   "outputs": [
    {
     "name": "stdout",
     "output_type": "stream",
     "text": [
      "[nltk_data] Downloading package stopwords to\n",
      "[nltk_data]     /home/aviboppana/nltk_data...\n",
      "[nltk_data]   Package stopwords is already up-to-date!\n",
      "[nltk_data] Downloading package words to /home/aviboppana/nltk_data...\n",
      "[nltk_data]   Package words is already up-to-date!\n",
      "[nltk_data] Downloading package punkt to /home/aviboppana/nltk_data...\n",
      "[nltk_data]   Package punkt is already up-to-date!\n"
     ]
    }
   ],
   "source": [
    "from sklearn.feature_extraction.text import CountVectorizer, TfidfTransformer\n",
    "from sklearn.pipeline import Pipeline\n",
    "from xgboost import XGBClassifier\n",
    "import pymongo\n",
    "import nltk\n",
    "nltk.download('stopwords')\n",
    "nltk.download('words')\n",
    "nltk.download('punkt')\n",
    "from ml_dev import preprocess\n",
    "\n",
    "def pull_train_data(db):\n",
    "    fake_news = db.docs.aggregate([{\"$limit\": db.docs.count_documents({\"truth\": True})}, {\"$match\": {\"truth\": False}}])\n",
    "    real_news = db.docs.find({\"truth\": True})\n",
    "    \n",
    "    news = list(real_news)\n",
    "    news.append(list(fake_news))\n",
    "    return news\n",
    "\n",
    "def train_model(db):\n",
    "    data = pull_train_data(db)\n",
    "    X = []\n",
    "    y = []\n",
    "\n",
    "    # preprocess\n",
    "    for d in data:\n",
    "        if isinstance(d, dict):\n",
    "            X.append(preprocess.tfidf_preprocess(d['text']))\n",
    "            y.append(d['truth'])\n",
    "        else:\n",
    "            for i in d:\n",
    "                X.append(preprocess.tfidf_preprocess(i['text']))\n",
    "                y.append(i['truth'])\n",
    "    \n",
    "    pipe = Pipeline([\n",
    "        ('vect', CountVectorizer()),\n",
    "        ('tfidf', TfidfTransformer()),\n",
    "        ('xgb', XGBClassifier())\n",
    "    ])\n",
    "\n",
    "    pipe.fit(X, y)\n",
    "    \n",
    "    return pipe"
   ]
  },
  {
   "cell_type": "code",
   "execution_count": 5,
   "metadata": {},
   "outputs": [],
   "source": [
    "import config\n",
    "\n",
    "connection = pymongo.MongoClient(config.DB_HOST, config.DB_PORT)\n",
    "db = connection[config.DB_NAME]\n",
    "db.authenticate(config.DB_USER, config.DB_PASS)\n",
    "\n",
    "model = train_model(db)\n"
   ]
  },
  {
   "cell_type": "markdown",
   "metadata": {},
   "source": [
    "<h1> News Classifier </h1>"
   ]
  },
  {
   "cell_type": "code",
   "execution_count": null,
   "metadata": {},
   "outputs": [
    {
     "name": "stdout",
     "output_type": "stream",
     "text": [
      "Enter URL: https://abcnews.go.com/Politics/wireStory/bredesen-seeks-votes-women-tennessee-senate-race-57698079?cid=clicksource_77_2_hero_headlines_headlines_hed\n"
     ]
    },
    {
     "name": "stderr",
     "output_type": "stream",
     "text": [
      "/home/aviboppana/anaconda3/envs/PennApps/lib/python3.5/site-packages/sklearn/preprocessing/label.py:151: DeprecationWarning: The truth value of an empty array is ambiguous. Returning False, but in future this will result in an error. Use `array.size > 0` to check that an array is not empty.\n",
      "  if diff:\n"
     ]
    },
    {
     "name": "stdout",
     "output_type": "stream",
     "text": [
      "Real\n",
      "Enter URL: https://patriothole.clickhole.com/liberal-hypocrisy-when-obama-was-president-democrats-w-1828462533\n"
     ]
    },
    {
     "name": "stderr",
     "output_type": "stream",
     "text": [
      "/home/aviboppana/anaconda3/envs/PennApps/lib/python3.5/site-packages/sklearn/preprocessing/label.py:151: DeprecationWarning: The truth value of an empty array is ambiguous. Returning False, but in future this will result in an error. Use `array.size > 0` to check that an array is not empty.\n",
      "  if diff:\n"
     ]
    },
    {
     "name": "stdout",
     "output_type": "stream",
     "text": [
      "Fake\n",
      "Enter URL: https://www.cnn.com/2018/09/04/politics/bob-woodward-book-donald-trump-fear/index.html\n"
     ]
    },
    {
     "name": "stderr",
     "output_type": "stream",
     "text": [
      "/home/aviboppana/anaconda3/envs/PennApps/lib/python3.5/site-packages/sklearn/preprocessing/label.py:151: DeprecationWarning: The truth value of an empty array is ambiguous. Returning False, but in future this will result in an error. Use `array.size > 0` to check that an array is not empty.\n",
      "  if diff:\n"
     ]
    },
    {
     "name": "stdout",
     "output_type": "stream",
     "text": [
      "Real\n",
      "Enter URL: https://www.newyorker.com/humor/borowitz-report/white-man-hopes-to-land-job-without-background-check\n"
     ]
    },
    {
     "name": "stderr",
     "output_type": "stream",
     "text": [
      "/home/aviboppana/anaconda3/envs/PennApps/lib/python3.5/site-packages/sklearn/preprocessing/label.py:151: DeprecationWarning: The truth value of an empty array is ambiguous. Returning False, but in future this will result in an error. Use `array.size > 0` to check that an array is not empty.\n",
      "  if diff:\n"
     ]
    },
    {
     "name": "stdout",
     "output_type": "stream",
     "text": [
      "Fake\n"
     ]
    }
   ],
   "source": [
    "from analyze_stylistics import get_from_pickle\n",
    "from diffbot import retrieve_from_url\n",
    "import config\n",
    "from diffbot import *\n",
    "\n",
    "def load_model():\n",
    "    model = get_from_pickle(\"xboost.pickle\")\n",
    "    return model\n",
    "\n",
    "def assess(url, model):\n",
    "    data = retrieve_from_url(url, get_token())\n",
    "    if not data:\n",
    "        return 'Not a valid article'\n",
    "    if model.predict([data])[0]:\n",
    "        return 'Real'\n",
    "    else:\n",
    "        return 'Fake'\n",
    "   \n",
    "\n",
    "if __name__ == \"__main__\":\n",
    "    while(True):\n",
    "        model = load_model()\n",
    "        url = input(\"Enter URL: \")\n",
    "        result = assess(url, model)\n",
    "        print(result)"
   ]
  },
  {
   "cell_type": "markdown",
   "metadata": {},
   "source": [
    "https://abcnews.go.com/Politics/wireStory/bredesen-seeks-votes-women-tennessee-senate-race-57698079?cid=clicksource_77_2_hero_headlines_headlines_hed\n",
    "\n",
    "https://patriothole.clickhole.com/liberal-hypocrisy-when-obama-was-president-democrats-w-1828462533\n",
    "\n",
    "https://www.cnn.com/2018/09/04/politics/bob-woodward-book-donald-trump-fear/index.html\n",
    "\n",
    "https://www.newyorker.com/humor/borowitz-report/white-man-hopes-to-land-job-without-background-check"
   ]
  }
 ],
 "metadata": {
  "kernelspec": {
   "display_name": "Python 3",
   "language": "python",
   "name": "python3"
  },
  "language_info": {
   "codemirror_mode": {
    "name": "ipython",
    "version": 3
   },
   "file_extension": ".py",
   "mimetype": "text/x-python",
   "name": "python",
   "nbconvert_exporter": "python",
   "pygments_lexer": "ipython3",
   "version": "3.5.5"
  }
 },
 "nbformat": 4,
 "nbformat_minor": 2
}
